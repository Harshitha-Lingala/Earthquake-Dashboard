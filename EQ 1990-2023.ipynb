{
 "cells": [
  {
   "cell_type": "code",
   "execution_count": 7,
   "id": "eee14f23",
   "metadata": {},
   "outputs": [],
   "source": [
    "import pandas as pd"
   ]
  },
  {
   "cell_type": "code",
   "execution_count": 8,
   "id": "09f471ac",
   "metadata": {},
   "outputs": [],
   "source": [
    "df=pd.read_csv('Earthquakes Dataset 1900-2023.csv')"
   ]
  },
  {
   "cell_type": "markdown",
   "id": "de0fb1cc",
   "metadata": {},
   "source": [
    "### Data Exploration"
   ]
  },
  {
   "cell_type": "code",
   "execution_count": 9,
   "id": "e852bf90",
   "metadata": {},
   "outputs": [
    {
     "data": {
      "text/plain": [
       "(37331, 23)"
      ]
     },
     "execution_count": 9,
     "metadata": {},
     "output_type": "execute_result"
    }
   ],
   "source": [
    "df.shape"
   ]
  },
  {
   "cell_type": "code",
   "execution_count": 10,
   "id": "de3ab1e0",
   "metadata": {},
   "outputs": [
    {
     "data": {
      "text/plain": [
       "Index(['Time', 'Place', 'Latitude', 'Longitude', 'Depth', 'Mag', 'MagType',\n",
       "       'nst', 'gap', 'dmin', 'rms', 'net', 'ID', 'Updated', 'Unnamed: 14',\n",
       "       'Type', 'horizontalError', 'depthError', 'magError', 'magNst', 'status',\n",
       "       'locationSource', 'magSource'],\n",
       "      dtype='object')"
      ]
     },
     "execution_count": 10,
     "metadata": {},
     "output_type": "execute_result"
    }
   ],
   "source": [
    "df.columns"
   ]
  },
  {
   "cell_type": "code",
   "execution_count": 11,
   "id": "1c78e648",
   "metadata": {},
   "outputs": [
    {
     "name": "stdout",
     "output_type": "stream",
     "text": [
      "<class 'pandas.core.frame.DataFrame'>\n",
      "RangeIndex: 37331 entries, 0 to 37330\n",
      "Data columns (total 23 columns):\n",
      " #   Column           Non-Null Count  Dtype  \n",
      "---  ------           --------------  -----  \n",
      " 0   Time             37331 non-null  object \n",
      " 1   Place            37047 non-null  object \n",
      " 2   Latitude         37331 non-null  float64\n",
      " 3   Longitude        37331 non-null  float64\n",
      " 4   Depth            37197 non-null  float64\n",
      " 5   Mag              37331 non-null  float64\n",
      " 6   MagType          37331 non-null  object \n",
      " 7   nst              7473 non-null   float64\n",
      " 8   gap              10087 non-null  float64\n",
      " 9   dmin             4395 non-null   float64\n",
      " 10  rms              20218 non-null  float64\n",
      " 11  net              37331 non-null  object \n",
      " 12  ID               37331 non-null  object \n",
      " 13  Updated          37331 non-null  object \n",
      " 14  Unnamed: 14      0 non-null      float64\n",
      " 15  Type             37331 non-null  object \n",
      " 16  horizontalError  3970 non-null   float64\n",
      " 17  depthError       20827 non-null  float64\n",
      " 18  magError         16551 non-null  float64\n",
      " 19  magNst           5372 non-null   float64\n",
      " 20  status           37331 non-null  object \n",
      " 21  locationSource   37331 non-null  object \n",
      " 22  magSource        37331 non-null  object \n",
      "dtypes: float64(13), object(10)\n",
      "memory usage: 6.6+ MB\n"
     ]
    }
   ],
   "source": [
    "df.info()"
   ]
  },
  {
   "cell_type": "code",
   "execution_count": 12,
   "id": "c85acf4d",
   "metadata": {},
   "outputs": [
    {
     "data": {
      "text/plain": [
       "Time                   0\n",
       "Place                284\n",
       "Latitude               0\n",
       "Longitude              0\n",
       "Depth                134\n",
       "Mag                    0\n",
       "MagType                0\n",
       "nst                29858\n",
       "gap                27244\n",
       "dmin               32936\n",
       "rms                17113\n",
       "net                    0\n",
       "ID                     0\n",
       "Updated                0\n",
       "Unnamed: 14        37331\n",
       "Type                   0\n",
       "horizontalError    33361\n",
       "depthError         16504\n",
       "magError           20780\n",
       "magNst             31959\n",
       "status                 0\n",
       "locationSource         0\n",
       "magSource              0\n",
       "dtype: int64"
      ]
     },
     "execution_count": 12,
     "metadata": {},
     "output_type": "execute_result"
    }
   ],
   "source": [
    "df.isnull().sum()"
   ]
  },
  {
   "cell_type": "code",
   "execution_count": 13,
   "id": "408d8863",
   "metadata": {},
   "outputs": [
    {
     "data": {
      "text/plain": [
       "0"
      ]
     },
     "execution_count": 13,
     "metadata": {},
     "output_type": "execute_result"
    }
   ],
   "source": [
    "df.duplicated().sum()"
   ]
  },
  {
   "cell_type": "markdown",
   "id": "be151632",
   "metadata": {},
   "source": [
    "### Data Cleaning\n"
   ]
  },
  {
   "cell_type": "code",
   "execution_count": 14,
   "id": "e5999f1d",
   "metadata": {},
   "outputs": [],
   "source": [
    "# The dataset has an empty column \"Unnamed: 14\"\n",
    "# Deleting all the redundant columns that do not have an affect on our analysis "
   ]
  },
  {
   "cell_type": "code",
   "execution_count": 15,
   "id": "da753c5c",
   "metadata": {},
   "outputs": [
    {
     "data": {
      "text/plain": [
       "Series([], Name: count, dtype: int64)"
      ]
     },
     "execution_count": 15,
     "metadata": {},
     "output_type": "execute_result"
    }
   ],
   "source": [
    "df['Unnamed: 14'].value_counts()"
   ]
  },
  {
   "cell_type": "code",
   "execution_count": 16,
   "id": "bdb521ac",
   "metadata": {},
   "outputs": [],
   "source": [
    "df.drop(['Unnamed: 14','horizontalError', 'depthError', 'magError', 'magNst', 'status',\n",
    "       'locationSource', 'magSource'],axis=1,inplace=True)\n"
   ]
  },
  {
   "cell_type": "code",
   "execution_count": 17,
   "id": "9e9ce248",
   "metadata": {},
   "outputs": [
    {
     "data": {
      "text/plain": [
       "Index(['Time', 'Place', 'Latitude', 'Longitude', 'Depth', 'Mag', 'MagType',\n",
       "       'nst', 'gap', 'dmin', 'rms', 'net', 'ID', 'Updated', 'Type'],\n",
       "      dtype='object')"
      ]
     },
     "execution_count": 17,
     "metadata": {},
     "output_type": "execute_result"
    }
   ],
   "source": [
    "df.columns"
   ]
  },
  {
   "cell_type": "code",
   "execution_count": 18,
   "id": "7eb9b7f9",
   "metadata": {},
   "outputs": [
    {
     "data": {
      "text/plain": [
       "0              130 km SW of Tual, Indonesia\n",
       "1             7 km SW of Port-Olry, Vanuatu\n",
       "2               Masbate region, Philippines\n",
       "3           54 km WNW of Otaki, New Zealand\n",
       "4               2 km NW of Lele?ti, Romania\n",
       "                        ...                \n",
       "37326        113 km ESE of Nikolski, Alaska\n",
       "37327         221 km SW of Nikolski, Alaska\n",
       "37328                       south of Alaska\n",
       "37329    12 km NNW of Parkfield, California\n",
       "37330        16 km SW of Old Harbor, Alaska\n",
       "Name: Place, Length: 37331, dtype: object"
      ]
     },
     "execution_count": 18,
     "metadata": {},
     "output_type": "execute_result"
    }
   ],
   "source": [
    "df.Place"
   ]
  },
  {
   "cell_type": "code",
   "execution_count": 19,
   "id": "0ac49151",
   "metadata": {},
   "outputs": [
    {
     "data": {
      "text/plain": [
       "0        2023-02-17T09:37:34.868Z\n",
       "1        2023-02-16T05:37:05.138Z\n",
       "2        2023-02-15T18:10:10.060Z\n",
       "3        2023-02-15T06:38:09.034Z\n",
       "4        2023-02-14T13:16:51.072Z\n",
       "                   ...           \n",
       "37326    1902-01-01T05:20:30.000Z\n",
       "37327    1901-12-31T09:02:30.000Z\n",
       "37328    1901-12-30T22:34:00.000Z\n",
       "37329    1901-03-03T07:45:00.000Z\n",
       "37330    1900-10-09T12:25:00.000Z\n",
       "Name: Time, Length: 37331, dtype: object"
      ]
     },
     "execution_count": 19,
     "metadata": {},
     "output_type": "execute_result"
    }
   ],
   "source": [
    "df['Time']"
   ]
  },
  {
   "cell_type": "code",
   "execution_count": 20,
   "id": "c208ea2e",
   "metadata": {},
   "outputs": [],
   "source": [
    "df[\"Time\"] = pd.to_datetime(df[\"Time\"]).dt.strftime('%Y-%m-%d %H:%M:%S') \n"
   ]
  },
  {
   "cell_type": "code",
   "execution_count": 21,
   "id": "4cf0edaa",
   "metadata": {},
   "outputs": [
    {
     "data": {
      "text/plain": [
       "0        2023-02-17 09:37:34\n",
       "1        2023-02-16 05:37:05\n",
       "2        2023-02-15 18:10:10\n",
       "3        2023-02-15 06:38:09\n",
       "4        2023-02-14 13:16:51\n",
       "                ...         \n",
       "37326    1902-01-01 05:20:30\n",
       "37327    1901-12-31 09:02:30\n",
       "37328    1901-12-30 22:34:00\n",
       "37329    1901-03-03 07:45:00\n",
       "37330    1900-10-09 12:25:00\n",
       "Name: Time, Length: 37331, dtype: object"
      ]
     },
     "execution_count": 21,
     "metadata": {},
     "output_type": "execute_result"
    }
   ],
   "source": [
    "df[\"Time\"]"
   ]
  },
  {
   "cell_type": "code",
   "execution_count": 22,
   "id": "8fc19b27",
   "metadata": {},
   "outputs": [
    {
     "data": {
      "text/plain": [
       "Time          object\n",
       "Place         object\n",
       "Latitude     float64\n",
       "Longitude    float64\n",
       "Depth        float64\n",
       "Mag          float64\n",
       "MagType       object\n",
       "nst          float64\n",
       "gap          float64\n",
       "dmin         float64\n",
       "rms          float64\n",
       "net           object\n",
       "ID            object\n",
       "Updated       object\n",
       "Type          object\n",
       "dtype: object"
      ]
     },
     "execution_count": 22,
     "metadata": {},
     "output_type": "execute_result"
    }
   ],
   "source": [
    "df.dtypes"
   ]
  },
  {
   "cell_type": "code",
   "execution_count": 23,
   "id": "a4c5b3bd",
   "metadata": {},
   "outputs": [],
   "source": [
    "df['Place'] = df['Place'].astype(str)"
   ]
  },
  {
   "cell_type": "code",
   "execution_count": 24,
   "id": "491a1e7a",
   "metadata": {},
   "outputs": [],
   "source": [
    "## Splitting the columns to form new columns with the desired data"
   ]
  },
  {
   "cell_type": "code",
   "execution_count": 25,
   "id": "30a1e1a9",
   "metadata": {},
   "outputs": [],
   "source": [
    "for index, row in df.iterrows():\n",
    "    df.loc[index, 'Date'] = row['Time'].split()[0]\n",
    "    df.loc[index, 'time'] = row['Time'].split()[-1]\n",
    "    df.loc[index, 'country'] = row['Place'].split()[-1]"
   ]
  },
  {
   "cell_type": "code",
   "execution_count": 26,
   "id": "d300ff24",
   "metadata": {},
   "outputs": [
    {
     "data": {
      "text/plain": [
       "<bound method Series.unique of 0          Indonesia\n",
       "1            Vanuatu\n",
       "2        Philippines\n",
       "3            Zealand\n",
       "4            Romania\n",
       "            ...     \n",
       "37326         Alaska\n",
       "37327         Alaska\n",
       "37328         Alaska\n",
       "37329     California\n",
       "37330         Alaska\n",
       "Name: country, Length: 37331, dtype: object>"
      ]
     },
     "execution_count": 26,
     "metadata": {},
     "output_type": "execute_result"
    }
   ],
   "source": [
    "df.country.unique"
   ]
  },
  {
   "cell_type": "code",
   "execution_count": 27,
   "id": "cd447b15",
   "metadata": {},
   "outputs": [],
   "source": [
    "df['country'] = df['country'].replace('Zealand', 'New Zealand')"
   ]
  },
  {
   "cell_type": "code",
   "execution_count": 28,
   "id": "eb396955",
   "metadata": {},
   "outputs": [
    {
     "data": {
      "text/plain": [
       "0          Indonesia\n",
       "1            Vanuatu\n",
       "2        Philippines\n",
       "3        New Zealand\n",
       "4            Romania\n",
       "            ...     \n",
       "37326         Alaska\n",
       "37327         Alaska\n",
       "37328         Alaska\n",
       "37329     California\n",
       "37330         Alaska\n",
       "Name: country, Length: 37331, dtype: object"
      ]
     },
     "execution_count": 28,
     "metadata": {},
     "output_type": "execute_result"
    }
   ],
   "source": [
    "df.country"
   ]
  },
  {
   "cell_type": "code",
   "execution_count": 29,
   "id": "17ff21d0",
   "metadata": {},
   "outputs": [],
   "source": [
    "# Deleting some more columns"
   ]
  },
  {
   "cell_type": "code",
   "execution_count": 30,
   "id": "d4f073ef",
   "metadata": {},
   "outputs": [],
   "source": [
    "df.drop(['Time'],axis=1,inplace=True)"
   ]
  },
  {
   "cell_type": "code",
   "execution_count": 31,
   "id": "6b7f98ac",
   "metadata": {},
   "outputs": [
    {
     "data": {
      "text/html": [
       "<div>\n",
       "<style scoped>\n",
       "    .dataframe tbody tr th:only-of-type {\n",
       "        vertical-align: middle;\n",
       "    }\n",
       "\n",
       "    .dataframe tbody tr th {\n",
       "        vertical-align: top;\n",
       "    }\n",
       "\n",
       "    .dataframe thead th {\n",
       "        text-align: right;\n",
       "    }\n",
       "</style>\n",
       "<table border=\"1\" class=\"dataframe\">\n",
       "  <thead>\n",
       "    <tr style=\"text-align: right;\">\n",
       "      <th></th>\n",
       "      <th>Place</th>\n",
       "      <th>Latitude</th>\n",
       "      <th>Longitude</th>\n",
       "      <th>Depth</th>\n",
       "      <th>Mag</th>\n",
       "      <th>MagType</th>\n",
       "      <th>nst</th>\n",
       "      <th>gap</th>\n",
       "      <th>dmin</th>\n",
       "      <th>rms</th>\n",
       "      <th>net</th>\n",
       "      <th>ID</th>\n",
       "      <th>Updated</th>\n",
       "      <th>Type</th>\n",
       "      <th>Date</th>\n",
       "      <th>time</th>\n",
       "      <th>country</th>\n",
       "    </tr>\n",
       "  </thead>\n",
       "  <tbody>\n",
       "    <tr>\n",
       "      <th>0</th>\n",
       "      <td>130 km SW of Tual, Indonesia</td>\n",
       "      <td>-6.5986</td>\n",
       "      <td>132.0763</td>\n",
       "      <td>38.615</td>\n",
       "      <td>6.1</td>\n",
       "      <td>mww</td>\n",
       "      <td>119.0</td>\n",
       "      <td>51.0</td>\n",
       "      <td>2.988</td>\n",
       "      <td>0.76</td>\n",
       "      <td>us</td>\n",
       "      <td>us6000jpl7</td>\n",
       "      <td>2023-02-17T17:58:24.040Z</td>\n",
       "      <td>earthquake</td>\n",
       "      <td>2023-02-17</td>\n",
       "      <td>09:37:34</td>\n",
       "      <td>Indonesia</td>\n",
       "    </tr>\n",
       "    <tr>\n",
       "      <th>1</th>\n",
       "      <td>7 km SW of Port-Olry, Vanuatu</td>\n",
       "      <td>-15.0912</td>\n",
       "      <td>167.0294</td>\n",
       "      <td>36.029</td>\n",
       "      <td>5.6</td>\n",
       "      <td>mww</td>\n",
       "      <td>81.0</td>\n",
       "      <td>26.0</td>\n",
       "      <td>0.392</td>\n",
       "      <td>0.94</td>\n",
       "      <td>us</td>\n",
       "      <td>us6000jpb1</td>\n",
       "      <td>2023-02-17T05:41:32.448Z</td>\n",
       "      <td>earthquake</td>\n",
       "      <td>2023-02-16</td>\n",
       "      <td>05:37:05</td>\n",
       "      <td>Vanuatu</td>\n",
       "    </tr>\n",
       "    <tr>\n",
       "      <th>2</th>\n",
       "      <td>Masbate region, Philippines</td>\n",
       "      <td>12.3238</td>\n",
       "      <td>123.8662</td>\n",
       "      <td>20.088</td>\n",
       "      <td>6.1</td>\n",
       "      <td>mww</td>\n",
       "      <td>148.0</td>\n",
       "      <td>47.0</td>\n",
       "      <td>5.487</td>\n",
       "      <td>0.54</td>\n",
       "      <td>us</td>\n",
       "      <td>us6000jp76</td>\n",
       "      <td>2023-02-16T20:12:32.595Z</td>\n",
       "      <td>earthquake</td>\n",
       "      <td>2023-02-15</td>\n",
       "      <td>18:10:10</td>\n",
       "      <td>Philippines</td>\n",
       "    </tr>\n",
       "    <tr>\n",
       "      <th>3</th>\n",
       "      <td>54 km WNW of Otaki, New Zealand</td>\n",
       "      <td>-40.5465</td>\n",
       "      <td>174.5709</td>\n",
       "      <td>74.320</td>\n",
       "      <td>5.7</td>\n",
       "      <td>mww</td>\n",
       "      <td>81.0</td>\n",
       "      <td>40.0</td>\n",
       "      <td>0.768</td>\n",
       "      <td>1.15</td>\n",
       "      <td>us</td>\n",
       "      <td>us6000jp1g</td>\n",
       "      <td>2023-02-16T06:42:09.738Z</td>\n",
       "      <td>earthquake</td>\n",
       "      <td>2023-02-15</td>\n",
       "      <td>06:38:09</td>\n",
       "      <td>New Zealand</td>\n",
       "    </tr>\n",
       "    <tr>\n",
       "      <th>4</th>\n",
       "      <td>2 km NW of Lele?ti, Romania</td>\n",
       "      <td>45.1126</td>\n",
       "      <td>23.1781</td>\n",
       "      <td>10.000</td>\n",
       "      <td>5.6</td>\n",
       "      <td>mww</td>\n",
       "      <td>132.0</td>\n",
       "      <td>28.0</td>\n",
       "      <td>1.197</td>\n",
       "      <td>0.40</td>\n",
       "      <td>us</td>\n",
       "      <td>us6000jnqz</td>\n",
       "      <td>2023-02-17T09:15:18.586Z</td>\n",
       "      <td>earthquake</td>\n",
       "      <td>2023-02-14</td>\n",
       "      <td>13:16:51</td>\n",
       "      <td>Romania</td>\n",
       "    </tr>\n",
       "  </tbody>\n",
       "</table>\n",
       "</div>"
      ],
      "text/plain": [
       "                             Place  Latitude  Longitude   Depth  Mag MagType  \\\n",
       "0     130 km SW of Tual, Indonesia   -6.5986   132.0763  38.615  6.1     mww   \n",
       "1    7 km SW of Port-Olry, Vanuatu  -15.0912   167.0294  36.029  5.6     mww   \n",
       "2      Masbate region, Philippines   12.3238   123.8662  20.088  6.1     mww   \n",
       "3  54 km WNW of Otaki, New Zealand  -40.5465   174.5709  74.320  5.7     mww   \n",
       "4      2 km NW of Lele?ti, Romania   45.1126    23.1781  10.000  5.6     mww   \n",
       "\n",
       "     nst   gap   dmin   rms net          ID                   Updated  \\\n",
       "0  119.0  51.0  2.988  0.76  us  us6000jpl7  2023-02-17T17:58:24.040Z   \n",
       "1   81.0  26.0  0.392  0.94  us  us6000jpb1  2023-02-17T05:41:32.448Z   \n",
       "2  148.0  47.0  5.487  0.54  us  us6000jp76  2023-02-16T20:12:32.595Z   \n",
       "3   81.0  40.0  0.768  1.15  us  us6000jp1g  2023-02-16T06:42:09.738Z   \n",
       "4  132.0  28.0  1.197  0.40  us  us6000jnqz  2023-02-17T09:15:18.586Z   \n",
       "\n",
       "         Type        Date      time      country  \n",
       "0  earthquake  2023-02-17  09:37:34    Indonesia  \n",
       "1  earthquake  2023-02-16  05:37:05      Vanuatu  \n",
       "2  earthquake  2023-02-15  18:10:10  Philippines  \n",
       "3  earthquake  2023-02-15  06:38:09  New Zealand  \n",
       "4  earthquake  2023-02-14  13:16:51      Romania  "
      ]
     },
     "execution_count": 31,
     "metadata": {},
     "output_type": "execute_result"
    }
   ],
   "source": [
    "df.head()"
   ]
  },
  {
   "cell_type": "code",
   "execution_count": 32,
   "id": "125c8b3c",
   "metadata": {},
   "outputs": [],
   "source": [
    "## Summary Statistics of our data "
   ]
  },
  {
   "cell_type": "code",
   "execution_count": 33,
   "id": "6d07737c",
   "metadata": {},
   "outputs": [
    {
     "data": {
      "text/html": [
       "<div>\n",
       "<style scoped>\n",
       "    .dataframe tbody tr th:only-of-type {\n",
       "        vertical-align: middle;\n",
       "    }\n",
       "\n",
       "    .dataframe tbody tr th {\n",
       "        vertical-align: top;\n",
       "    }\n",
       "\n",
       "    .dataframe thead th {\n",
       "        text-align: right;\n",
       "    }\n",
       "</style>\n",
       "<table border=\"1\" class=\"dataframe\">\n",
       "  <thead>\n",
       "    <tr style=\"text-align: right;\">\n",
       "      <th></th>\n",
       "      <th>Latitude</th>\n",
       "      <th>Longitude</th>\n",
       "      <th>Depth</th>\n",
       "      <th>Mag</th>\n",
       "      <th>nst</th>\n",
       "      <th>gap</th>\n",
       "      <th>dmin</th>\n",
       "      <th>rms</th>\n",
       "    </tr>\n",
       "  </thead>\n",
       "  <tbody>\n",
       "    <tr>\n",
       "      <th>count</th>\n",
       "      <td>37331.000000</td>\n",
       "      <td>37331.000000</td>\n",
       "      <td>37197.000000</td>\n",
       "      <td>37331.000000</td>\n",
       "      <td>7473.000000</td>\n",
       "      <td>10087.000000</td>\n",
       "      <td>4395.000000</td>\n",
       "      <td>20218.000000</td>\n",
       "    </tr>\n",
       "    <tr>\n",
       "      <th>mean</th>\n",
       "      <td>5.457651</td>\n",
       "      <td>38.877695</td>\n",
       "      <td>58.583346</td>\n",
       "      <td>5.949996</td>\n",
       "      <td>265.481065</td>\n",
       "      <td>45.014891</td>\n",
       "      <td>4.315178</td>\n",
       "      <td>1.000779</td>\n",
       "    </tr>\n",
       "    <tr>\n",
       "      <th>std</th>\n",
       "      <td>30.789822</td>\n",
       "      <td>123.090934</td>\n",
       "      <td>109.563400</td>\n",
       "      <td>0.456006</td>\n",
       "      <td>161.982149</td>\n",
       "      <td>34.311032</td>\n",
       "      <td>5.480411</td>\n",
       "      <td>0.356822</td>\n",
       "    </tr>\n",
       "    <tr>\n",
       "      <th>min</th>\n",
       "      <td>-77.080000</td>\n",
       "      <td>-179.997000</td>\n",
       "      <td>-4.000000</td>\n",
       "      <td>5.500000</td>\n",
       "      <td>0.000000</td>\n",
       "      <td>8.000000</td>\n",
       "      <td>0.004505</td>\n",
       "      <td>0.005000</td>\n",
       "    </tr>\n",
       "    <tr>\n",
       "      <th>25%</th>\n",
       "      <td>-16.519800</td>\n",
       "      <td>-75.807000</td>\n",
       "      <td>15.000000</td>\n",
       "      <td>5.600000</td>\n",
       "      <td>134.000000</td>\n",
       "      <td>24.100000</td>\n",
       "      <td>1.155000</td>\n",
       "      <td>0.890000</td>\n",
       "    </tr>\n",
       "    <tr>\n",
       "      <th>50%</th>\n",
       "      <td>1.153000</td>\n",
       "      <td>98.577000</td>\n",
       "      <td>28.500000</td>\n",
       "      <td>5.800000</td>\n",
       "      <td>241.000000</td>\n",
       "      <td>36.000000</td>\n",
       "      <td>2.509000</td>\n",
       "      <td>1.000000</td>\n",
       "    </tr>\n",
       "    <tr>\n",
       "      <th>75%</th>\n",
       "      <td>33.786000</td>\n",
       "      <td>143.347850</td>\n",
       "      <td>41.000000</td>\n",
       "      <td>6.100000</td>\n",
       "      <td>372.000000</td>\n",
       "      <td>54.800000</td>\n",
       "      <td>5.127500</td>\n",
       "      <td>1.110000</td>\n",
       "    </tr>\n",
       "    <tr>\n",
       "      <th>max</th>\n",
       "      <td>87.199000</td>\n",
       "      <td>180.000000</td>\n",
       "      <td>700.000000</td>\n",
       "      <td>9.500000</td>\n",
       "      <td>934.000000</td>\n",
       "      <td>360.000000</td>\n",
       "      <td>39.730000</td>\n",
       "      <td>42.410000</td>\n",
       "    </tr>\n",
       "  </tbody>\n",
       "</table>\n",
       "</div>"
      ],
      "text/plain": [
       "           Latitude     Longitude         Depth           Mag          nst  \\\n",
       "count  37331.000000  37331.000000  37197.000000  37331.000000  7473.000000   \n",
       "mean       5.457651     38.877695     58.583346      5.949996   265.481065   \n",
       "std       30.789822    123.090934    109.563400      0.456006   161.982149   \n",
       "min      -77.080000   -179.997000     -4.000000      5.500000     0.000000   \n",
       "25%      -16.519800    -75.807000     15.000000      5.600000   134.000000   \n",
       "50%        1.153000     98.577000     28.500000      5.800000   241.000000   \n",
       "75%       33.786000    143.347850     41.000000      6.100000   372.000000   \n",
       "max       87.199000    180.000000    700.000000      9.500000   934.000000   \n",
       "\n",
       "                gap         dmin           rms  \n",
       "count  10087.000000  4395.000000  20218.000000  \n",
       "mean      45.014891     4.315178      1.000779  \n",
       "std       34.311032     5.480411      0.356822  \n",
       "min        8.000000     0.004505      0.005000  \n",
       "25%       24.100000     1.155000      0.890000  \n",
       "50%       36.000000     2.509000      1.000000  \n",
       "75%       54.800000     5.127500      1.110000  \n",
       "max      360.000000    39.730000     42.410000  "
      ]
     },
     "execution_count": 33,
     "metadata": {},
     "output_type": "execute_result"
    }
   ],
   "source": [
    "df.describe()"
   ]
  },
  {
   "cell_type": "markdown",
   "id": "903ad8b8",
   "metadata": {},
   "source": [
    "### Exporting our cleaned data into a .csv file "
   ]
  },
  {
   "cell_type": "code",
   "execution_count": 34,
   "id": "aa28d36f",
   "metadata": {},
   "outputs": [],
   "source": [
    "df.to_csv('Cleaned_Earthquakes data 1900-2023.csv',index=False)"
   ]
  },
  {
   "cell_type": "code",
   "execution_count": 35,
   "id": "717a257f",
   "metadata": {},
   "outputs": [],
   "source": [
    "df1=pd.read_csv('Cleaned_Earthquakes data 1900-2023.csv')"
   ]
  },
  {
   "cell_type": "code",
   "execution_count": 36,
   "id": "002fce34",
   "metadata": {},
   "outputs": [
    {
     "data": {
      "text/plain": [
       "(37331, 17)"
      ]
     },
     "execution_count": 36,
     "metadata": {},
     "output_type": "execute_result"
    }
   ],
   "source": [
    "df1.shape"
   ]
  },
  {
   "cell_type": "code",
   "execution_count": 37,
   "id": "0747357b",
   "metadata": {},
   "outputs": [
    {
     "data": {
      "text/plain": [
       "Index(['Place', 'Latitude', 'Longitude', 'Depth', 'Mag', 'MagType', 'nst',\n",
       "       'gap', 'dmin', 'rms', 'net', 'ID', 'Updated', 'Type', 'Date', 'time',\n",
       "       'country'],\n",
       "      dtype='object')"
      ]
     },
     "execution_count": 37,
     "metadata": {},
     "output_type": "execute_result"
    }
   ],
   "source": [
    "df1.columns"
   ]
  }
 ],
 "metadata": {
  "kernelspec": {
   "display_name": "Python 3 (ipykernel)",
   "language": "python",
   "name": "python3"
  },
  "language_info": {
   "codemirror_mode": {
    "name": "ipython",
    "version": 3
   },
   "file_extension": ".py",
   "mimetype": "text/x-python",
   "name": "python",
   "nbconvert_exporter": "python",
   "pygments_lexer": "ipython3",
   "version": "3.11.5"
  }
 },
 "nbformat": 4,
 "nbformat_minor": 5
}
